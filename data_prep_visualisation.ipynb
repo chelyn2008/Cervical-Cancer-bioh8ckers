{
 "cells": [
  {
   "cell_type": "markdown",
   "id": "9cb8e97c",
   "metadata": {},
   "source": [
    "## Data Exploration"
   ]
  },
  {
   "cell_type": "code",
   "execution_count": 1,
   "id": "72784b42",
   "metadata": {},
   "outputs": [],
   "source": [
    "# import all the neccessary libraries\n",
    "import pandas as pd\n",
    "import matplotlib.pyplot as plt"
   ]
  },
  {
   "cell_type": "code",
   "execution_count": 2,
   "id": "60fe530c",
   "metadata": {},
   "outputs": [],
   "source": [
    "cc_data = pd.read_csv(\"cervical-cancer_csv.csv\")"
   ]
  },
  {
   "cell_type": "code",
   "execution_count": null,
   "id": "98314c65",
   "metadata": {},
   "outputs": [],
   "source": [
    "cc_data.head()"
   ]
  }
 ],
 "metadata": {
  "kernelspec": {
   "display_name": "Python 3",
   "language": "python",
   "name": "python3"
  },
  "language_info": {
   "codemirror_mode": {
    "name": "ipython",
    "version": 3
   },
   "file_extension": ".py",
   "mimetype": "text/x-python",
   "name": "python",
   "nbconvert_exporter": "python",
   "pygments_lexer": "ipython3",
   "version": "3.10.4"
  }
 },
 "nbformat": 4,
 "nbformat_minor": 5
}
