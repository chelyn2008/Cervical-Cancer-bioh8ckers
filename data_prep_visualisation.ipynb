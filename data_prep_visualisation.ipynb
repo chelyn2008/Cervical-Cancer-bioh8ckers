{
 "cells": [
  {
   "cell_type": "markdown",
   "id": "9cb8e97c",
   "metadata": {},
   "source": [
    "## Data Exploration"
   ]
  },
  {
   "cell_type": "code",
   "execution_count": null,
   "id": "72784b42",
   "metadata": {
    "vscode": {
     "languageId": "plaintext"
    }
   },
   "outputs": [],
   "source": [
    "# import all the neccessary libraries\n",
    "import pandas as pd\n",
    "import matplotlib.py as pyplot"
   ]
  },
  {
   "cell_type": "code",
   "execution_count": null,
   "id": "60fe530c",
   "metadata": {
    "vscode": {
     "languageId": "plaintext"
    }
   },
   "outputs": [],
   "source": [
    "cc_data = pd.read_csv(\"cervical-cancer_csv.csv\")"
   ]
  }
 ],
 "metadata": {
  "language_info": {
   "name": "python"
  }
 },
 "nbformat": 4,
 "nbformat_minor": 5
}
