{
 "cells": [
  {
   "cell_type": "markdown",
   "id": "9cb8e97c",
   "metadata": {},
   "source": [
    "## EDA (Exploratory Data Analysis)"
   ]
  },
  {
   "cell_type": "code",
   "execution_count": 2,
   "id": "72784b42",
   "metadata": {},
   "outputs": [],
   "source": [
    "# import all the neccessary libraries\n",
    "import pandas as pd\n",
    "import numpy as np\n",
    "import matplotlib.pyplot as plt\n",
    "import seaborn as sns"
   ]
  },
  {
   "cell_type": "code",
   "execution_count": null,
   "id": "eb25acb6",
   "metadata": {},
   "outputs": [
    {
     "name": "stdout",
     "output_type": "stream",
     "text": [
      "Current working directory is: C:\\Users\\Deonne\\OneDrive - Nanyang Technological University\\Desktop\\Y2S1\\Biohackathon\n"
     ]
    }
   ],
   "source": [
    "\"\"\"TO READ FILE\"\"\"\n",
    "import os\n",
    "#os.chdir(r\"C:\\Users\\Deonne\\OneDrive - Nanyang Technological University\\Desktop\\Y2S1\\Biohackathon\")\n",
    "#os.chdir(r\"path\")\n",
    "print(\"Current working directory is:\", os.getcwd())"
   ]
  },
  {
   "cell_type": "code",
   "execution_count": 10,
   "id": "60fe530c",
   "metadata": {},
   "outputs": [],
   "source": [
    "# reading the data\n",
    "cc_data = pd.read_csv(\"cervical-cancer_csv.csv\")"
   ]
  },
  {
   "cell_type": "code",
   "execution_count": null,
   "id": "98314c65",
   "metadata": {},
   "outputs": [
    {
     "data": {
      "text/html": [
       "<div>\n",
       "<style scoped>\n",
       "    .dataframe tbody tr th:only-of-type {\n",
       "        vertical-align: middle;\n",
       "    }\n",
       "\n",
       "    .dataframe tbody tr th {\n",
       "        vertical-align: top;\n",
       "    }\n",
       "\n",
       "    .dataframe thead th {\n",
       "        text-align: right;\n",
       "    }\n",
       "</style>\n",
       "<table border=\"1\" class=\"dataframe\">\n",
       "  <thead>\n",
       "    <tr style=\"text-align: right;\">\n",
       "      <th></th>\n",
       "      <th>Age</th>\n",
       "      <th>Number of sexual partners</th>\n",
       "      <th>First sexual intercourse</th>\n",
       "      <th>Num of pregnancies</th>\n",
       "      <th>Smokes</th>\n",
       "      <th>Smokes (years)</th>\n",
       "      <th>Smokes (packs/year)</th>\n",
       "      <th>Hormonal Contraceptives</th>\n",
       "      <th>Hormonal Contraceptives (years)</th>\n",
       "      <th>IUD</th>\n",
       "      <th>...</th>\n",
       "      <th>STDs: Time since first diagnosis</th>\n",
       "      <th>STDs: Time since last diagnosis</th>\n",
       "      <th>Dx:Cancer</th>\n",
       "      <th>Dx:CIN</th>\n",
       "      <th>Dx:HPV</th>\n",
       "      <th>Dx</th>\n",
       "      <th>Hinselmann</th>\n",
       "      <th>Schiller</th>\n",
       "      <th>Citology</th>\n",
       "      <th>Biopsy</th>\n",
       "    </tr>\n",
       "  </thead>\n",
       "  <tbody>\n",
       "    <tr>\n",
       "      <th>0</th>\n",
       "      <td>18</td>\n",
       "      <td>4.0</td>\n",
       "      <td>15.0</td>\n",
       "      <td>1.0</td>\n",
       "      <td>0.0</td>\n",
       "      <td>0.0</td>\n",
       "      <td>0.0</td>\n",
       "      <td>0.0</td>\n",
       "      <td>0.0</td>\n",
       "      <td>0.0</td>\n",
       "      <td>...</td>\n",
       "      <td>NaN</td>\n",
       "      <td>NaN</td>\n",
       "      <td>0</td>\n",
       "      <td>0</td>\n",
       "      <td>0</td>\n",
       "      <td>0</td>\n",
       "      <td>0</td>\n",
       "      <td>0</td>\n",
       "      <td>0</td>\n",
       "      <td>0</td>\n",
       "    </tr>\n",
       "    <tr>\n",
       "      <th>1</th>\n",
       "      <td>15</td>\n",
       "      <td>1.0</td>\n",
       "      <td>14.0</td>\n",
       "      <td>1.0</td>\n",
       "      <td>0.0</td>\n",
       "      <td>0.0</td>\n",
       "      <td>0.0</td>\n",
       "      <td>0.0</td>\n",
       "      <td>0.0</td>\n",
       "      <td>0.0</td>\n",
       "      <td>...</td>\n",
       "      <td>NaN</td>\n",
       "      <td>NaN</td>\n",
       "      <td>0</td>\n",
       "      <td>0</td>\n",
       "      <td>0</td>\n",
       "      <td>0</td>\n",
       "      <td>0</td>\n",
       "      <td>0</td>\n",
       "      <td>0</td>\n",
       "      <td>0</td>\n",
       "    </tr>\n",
       "    <tr>\n",
       "      <th>2</th>\n",
       "      <td>34</td>\n",
       "      <td>1.0</td>\n",
       "      <td>NaN</td>\n",
       "      <td>1.0</td>\n",
       "      <td>0.0</td>\n",
       "      <td>0.0</td>\n",
       "      <td>0.0</td>\n",
       "      <td>0.0</td>\n",
       "      <td>0.0</td>\n",
       "      <td>0.0</td>\n",
       "      <td>...</td>\n",
       "      <td>NaN</td>\n",
       "      <td>NaN</td>\n",
       "      <td>0</td>\n",
       "      <td>0</td>\n",
       "      <td>0</td>\n",
       "      <td>0</td>\n",
       "      <td>0</td>\n",
       "      <td>0</td>\n",
       "      <td>0</td>\n",
       "      <td>0</td>\n",
       "    </tr>\n",
       "    <tr>\n",
       "      <th>3</th>\n",
       "      <td>52</td>\n",
       "      <td>5.0</td>\n",
       "      <td>16.0</td>\n",
       "      <td>4.0</td>\n",
       "      <td>1.0</td>\n",
       "      <td>37.0</td>\n",
       "      <td>37.0</td>\n",
       "      <td>1.0</td>\n",
       "      <td>3.0</td>\n",
       "      <td>0.0</td>\n",
       "      <td>...</td>\n",
       "      <td>NaN</td>\n",
       "      <td>NaN</td>\n",
       "      <td>1</td>\n",
       "      <td>0</td>\n",
       "      <td>1</td>\n",
       "      <td>0</td>\n",
       "      <td>0</td>\n",
       "      <td>0</td>\n",
       "      <td>0</td>\n",
       "      <td>0</td>\n",
       "    </tr>\n",
       "    <tr>\n",
       "      <th>4</th>\n",
       "      <td>46</td>\n",
       "      <td>3.0</td>\n",
       "      <td>21.0</td>\n",
       "      <td>4.0</td>\n",
       "      <td>0.0</td>\n",
       "      <td>0.0</td>\n",
       "      <td>0.0</td>\n",
       "      <td>1.0</td>\n",
       "      <td>15.0</td>\n",
       "      <td>0.0</td>\n",
       "      <td>...</td>\n",
       "      <td>NaN</td>\n",
       "      <td>NaN</td>\n",
       "      <td>0</td>\n",
       "      <td>0</td>\n",
       "      <td>0</td>\n",
       "      <td>0</td>\n",
       "      <td>0</td>\n",
       "      <td>0</td>\n",
       "      <td>0</td>\n",
       "      <td>0</td>\n",
       "    </tr>\n",
       "  </tbody>\n",
       "</table>\n",
       "<p>5 rows × 36 columns</p>\n",
       "</div>"
      ],
      "text/plain": [
       "   Age  Number of sexual partners  First sexual intercourse  \\\n",
       "0   18                        4.0                      15.0   \n",
       "1   15                        1.0                      14.0   \n",
       "2   34                        1.0                       NaN   \n",
       "3   52                        5.0                      16.0   \n",
       "4   46                        3.0                      21.0   \n",
       "\n",
       "   Num of pregnancies  Smokes  Smokes (years)  Smokes (packs/year)  \\\n",
       "0                 1.0     0.0             0.0                  0.0   \n",
       "1                 1.0     0.0             0.0                  0.0   \n",
       "2                 1.0     0.0             0.0                  0.0   \n",
       "3                 4.0     1.0            37.0                 37.0   \n",
       "4                 4.0     0.0             0.0                  0.0   \n",
       "\n",
       "   Hormonal Contraceptives  Hormonal Contraceptives (years)  IUD  ...  \\\n",
       "0                      0.0                              0.0  0.0  ...   \n",
       "1                      0.0                              0.0  0.0  ...   \n",
       "2                      0.0                              0.0  0.0  ...   \n",
       "3                      1.0                              3.0  0.0  ...   \n",
       "4                      1.0                             15.0  0.0  ...   \n",
       "\n",
       "   STDs: Time since first diagnosis  STDs: Time since last diagnosis  \\\n",
       "0                               NaN                              NaN   \n",
       "1                               NaN                              NaN   \n",
       "2                               NaN                              NaN   \n",
       "3                               NaN                              NaN   \n",
       "4                               NaN                              NaN   \n",
       "\n",
       "   Dx:Cancer  Dx:CIN  Dx:HPV  Dx  Hinselmann  Schiller  Citology  Biopsy  \n",
       "0          0       0       0   0           0         0         0       0  \n",
       "1          0       0       0   0           0         0         0       0  \n",
       "2          0       0       0   0           0         0         0       0  \n",
       "3          1       0       1   0           0         0         0       0  \n",
       "4          0       0       0   0           0         0         0       0  \n",
       "\n",
       "[5 rows x 36 columns]"
      ]
     },
     "execution_count": 3,
     "metadata": {},
     "output_type": "execute_result"
    }
   ],
   "source": [
    "cc_data.head()"
   ]
  },
  {
   "cell_type": "code",
   "execution_count": null,
   "id": "87b21ee4",
   "metadata": {},
   "outputs": [
    {
     "data": {
      "text/plain": [
       "(835, 36)"
      ]
     },
     "execution_count": 5,
     "metadata": {},
     "output_type": "execute_result"
    }
   ],
   "source": [
    "cc_data.shape"
   ]
  },
  {
   "cell_type": "code",
   "execution_count": null,
   "id": "7a244d61",
   "metadata": {},
   "outputs": [
    {
     "name": "stdout",
     "output_type": "stream",
     "text": [
      "<class 'pandas.core.frame.DataFrame'>\n",
      "RangeIndex: 835 entries, 0 to 834\n",
      "Data columns (total 36 columns):\n",
      " #   Column                              Non-Null Count  Dtype  \n",
      "---  ------                              --------------  -----  \n",
      " 0   Age                                 835 non-null    int64  \n",
      " 1   Number of sexual partners           810 non-null    float64\n",
      " 2   First sexual intercourse            828 non-null    float64\n",
      " 3   Num of pregnancies                  779 non-null    float64\n",
      " 4   Smokes                              822 non-null    float64\n",
      " 5   Smokes (years)                      822 non-null    float64\n",
      " 6   Smokes (packs/year)                 822 non-null    float64\n",
      " 7   Hormonal Contraceptives             732 non-null    float64\n",
      " 8   Hormonal Contraceptives (years)     732 non-null    float64\n",
      " 9   IUD                                 723 non-null    float64\n",
      " 10  IUD (years)                         723 non-null    float64\n",
      " 11  STDs                                735 non-null    float64\n",
      " 12  STDs (number)                       735 non-null    float64\n",
      " 13  STDs:condylomatosis                 735 non-null    float64\n",
      " 14  STDs:cervical condylomatosis        735 non-null    float64\n",
      " 15  STDs:vaginal condylomatosis         735 non-null    float64\n",
      " 16  STDs:vulvo-perineal condylomatosis  735 non-null    float64\n",
      " 17  STDs:syphilis                       735 non-null    float64\n",
      " 18  STDs:pelvic inflammatory disease    735 non-null    float64\n",
      " 19  STDs:genital herpes                 735 non-null    float64\n",
      " 20  STDs:molluscum contagiosum          735 non-null    float64\n",
      " 21  STDs:AIDS                           735 non-null    float64\n",
      " 22  STDs:HIV                            735 non-null    float64\n",
      " 23  STDs:Hepatitis B                    735 non-null    float64\n",
      " 24  STDs:HPV                            735 non-null    float64\n",
      " 25  STDs: Number of diagnosis           835 non-null    int64  \n",
      " 26  STDs: Time since first diagnosis    71 non-null     float64\n",
      " 27  STDs: Time since last diagnosis     71 non-null     float64\n",
      " 28  Dx:Cancer                           835 non-null    int64  \n",
      " 29  Dx:CIN                              835 non-null    int64  \n",
      " 30  Dx:HPV                              835 non-null    int64  \n",
      " 31  Dx                                  835 non-null    int64  \n",
      " 32  Hinselmann                          835 non-null    int64  \n",
      " 33  Schiller                            835 non-null    int64  \n",
      " 34  Citology                            835 non-null    int64  \n",
      " 35  Biopsy                              835 non-null    int64  \n",
      "dtypes: float64(26), int64(10)\n",
      "memory usage: 235.0 KB\n"
     ]
    }
   ],
   "source": [
    "cc_data.info()"
   ]
  },
  {
   "cell_type": "code",
   "execution_count": null,
   "id": "f5850f6a",
   "metadata": {},
   "outputs": [
    {
     "data": {
      "text/plain": [
       "Index(['Age', 'Number of sexual partners', 'First sexual intercourse',\n",
       "       'Num of pregnancies', 'Smokes', 'Smokes (years)', 'Smokes (packs/year)',\n",
       "       'Hormonal Contraceptives', 'Hormonal Contraceptives (years)', 'IUD',\n",
       "       'IUD (years)', 'STDs', 'STDs (number)', 'STDs:condylomatosis',\n",
       "       'STDs:cervical condylomatosis', 'STDs:vaginal condylomatosis',\n",
       "       'STDs:vulvo-perineal condylomatosis', 'STDs:syphilis',\n",
       "       'STDs:pelvic inflammatory disease', 'STDs:genital herpes',\n",
       "       'STDs:molluscum contagiosum', 'STDs:AIDS', 'STDs:HIV',\n",
       "       'STDs:Hepatitis B', 'STDs:HPV', 'STDs: Number of diagnosis',\n",
       "       'STDs: Time since first diagnosis', 'STDs: Time since last diagnosis',\n",
       "       'Dx:Cancer', 'Dx:CIN', 'Dx:HPV', 'Dx', 'Hinselmann', 'Schiller',\n",
       "       'Citology', 'Biopsy'],\n",
       "      dtype='object')"
      ]
     },
     "execution_count": 8,
     "metadata": {},
     "output_type": "execute_result"
    }
   ],
   "source": [
    "cc_data.columns"
   ]
  },
  {
   "cell_type": "markdown",
   "id": "e40045bc",
   "metadata": {
    "vscode": {
     "languageId": "raw"
    }
   },
   "source": [
    "Meaning of the columns:"
   ]
  },
  {
   "cell_type": "code",
   "execution_count": null,
   "id": "f2cd8432",
   "metadata": {},
   "outputs": [
    {
     "data": {
      "text/plain": [
       "Age                                   False\n",
       "Number of sexual partners              True\n",
       "First sexual intercourse               True\n",
       "Num of pregnancies                     True\n",
       "Smokes                                 True\n",
       "Smokes (years)                         True\n",
       "Smokes (packs/year)                    True\n",
       "Hormonal Contraceptives                True\n",
       "Hormonal Contraceptives (years)        True\n",
       "IUD                                    True\n",
       "IUD (years)                            True\n",
       "STDs                                   True\n",
       "STDs (number)                          True\n",
       "STDs:condylomatosis                    True\n",
       "STDs:cervical condylomatosis           True\n",
       "STDs:vaginal condylomatosis            True\n",
       "STDs:vulvo-perineal condylomatosis     True\n",
       "STDs:syphilis                          True\n",
       "STDs:pelvic inflammatory disease       True\n",
       "STDs:genital herpes                    True\n",
       "STDs:molluscum contagiosum             True\n",
       "STDs:AIDS                              True\n",
       "STDs:HIV                               True\n",
       "STDs:Hepatitis B                       True\n",
       "STDs:HPV                               True\n",
       "STDs: Number of diagnosis             False\n",
       "STDs: Time since first diagnosis       True\n",
       "STDs: Time since last diagnosis        True\n",
       "Dx:Cancer                             False\n",
       "Dx:CIN                                False\n",
       "Dx:HPV                                False\n",
       "Dx                                    False\n",
       "Hinselmann                            False\n",
       "Schiller                              False\n",
       "Citology                              False\n",
       "Biopsy                                False\n",
       "dtype: bool"
      ]
     },
     "execution_count": 12,
     "metadata": {},
     "output_type": "execute_result"
    },
    {
     "ename": "",
     "evalue": "",
     "output_type": "error",
     "traceback": [
      "\u001b[1;31mThe Kernel crashed while executing code in the current cell or a previous cell. \n",
      "\u001b[1;31mPlease review the code in the cell(s) to identify a possible cause of the failure. \n",
      "\u001b[1;31mClick <a href='https://aka.ms/vscodeJupyterKernelCrash'>here</a> for more info. \n",
      "\u001b[1;31mView Jupyter <a href='command:jupyter.viewOutput'>log</a> for further details."
     ]
    }
   ],
   "source": [
    "# checking for any NULL values\n",
    "cc_data.isna().any()"
   ]
  },
  {
   "cell_type": "markdown",
   "id": "29f7349c",
   "metadata": {},
   "source": [
    "CLEAN DATA BASED ON COLUMN TYPE"
   ]
  },
  {
   "cell_type": "code",
   "execution_count": 11,
   "id": "3890e011",
   "metadata": {},
   "outputs": [
    {
     "name": "stderr",
     "output_type": "stream",
     "text": [
      "C:\\Users\\Deonne\\AppData\\Local\\Temp\\ipykernel_4432\\365743340.py:24: FutureWarning: A value is trying to be set on a copy of a DataFrame or Series through chained assignment using an inplace method.\n",
      "The behavior will change in pandas 3.0. This inplace method will never work because the intermediate object on which we are setting values always behaves as a copy.\n",
      "\n",
      "For example, when doing 'df[col].method(value, inplace=True)', try using 'df.method({col: value}, inplace=True)' or df[col] = df[col].method(value) instead, to perform the operation inplace on the original object.\n",
      "\n",
      "\n",
      "  cc_data[col].fillna(cc_data[col].median(), inplace=True)\n",
      "C:\\Users\\Deonne\\AppData\\Local\\Temp\\ipykernel_4432\\365743340.py:24: FutureWarning: A value is trying to be set on a copy of a DataFrame or Series through chained assignment using an inplace method.\n",
      "The behavior will change in pandas 3.0. This inplace method will never work because the intermediate object on which we are setting values always behaves as a copy.\n",
      "\n",
      "For example, when doing 'df[col].method(value, inplace=True)', try using 'df.method({col: value}, inplace=True)' or df[col] = df[col].method(value) instead, to perform the operation inplace on the original object.\n",
      "\n",
      "\n",
      "  cc_data[col].fillna(cc_data[col].median(), inplace=True)\n",
      "C:\\Users\\Deonne\\AppData\\Local\\Temp\\ipykernel_4432\\365743340.py:24: FutureWarning: A value is trying to be set on a copy of a DataFrame or Series through chained assignment using an inplace method.\n",
      "The behavior will change in pandas 3.0. This inplace method will never work because the intermediate object on which we are setting values always behaves as a copy.\n",
      "\n",
      "For example, when doing 'df[col].method(value, inplace=True)', try using 'df.method({col: value}, inplace=True)' or df[col] = df[col].method(value) instead, to perform the operation inplace on the original object.\n",
      "\n",
      "\n",
      "  cc_data[col].fillna(cc_data[col].median(), inplace=True)\n",
      "C:\\Users\\Deonne\\AppData\\Local\\Temp\\ipykernel_4432\\365743340.py:24: FutureWarning: A value is trying to be set on a copy of a DataFrame or Series through chained assignment using an inplace method.\n",
      "The behavior will change in pandas 3.0. This inplace method will never work because the intermediate object on which we are setting values always behaves as a copy.\n",
      "\n",
      "For example, when doing 'df[col].method(value, inplace=True)', try using 'df.method({col: value}, inplace=True)' or df[col] = df[col].method(value) instead, to perform the operation inplace on the original object.\n",
      "\n",
      "\n",
      "  cc_data[col].fillna(cc_data[col].median(), inplace=True)\n",
      "C:\\Users\\Deonne\\AppData\\Local\\Temp\\ipykernel_4432\\365743340.py:24: FutureWarning: A value is trying to be set on a copy of a DataFrame or Series through chained assignment using an inplace method.\n",
      "The behavior will change in pandas 3.0. This inplace method will never work because the intermediate object on which we are setting values always behaves as a copy.\n",
      "\n",
      "For example, when doing 'df[col].method(value, inplace=True)', try using 'df.method({col: value}, inplace=True)' or df[col] = df[col].method(value) instead, to perform the operation inplace on the original object.\n",
      "\n",
      "\n",
      "  cc_data[col].fillna(cc_data[col].median(), inplace=True)\n",
      "C:\\Users\\Deonne\\AppData\\Local\\Temp\\ipykernel_4432\\365743340.py:24: FutureWarning: A value is trying to be set on a copy of a DataFrame or Series through chained assignment using an inplace method.\n",
      "The behavior will change in pandas 3.0. This inplace method will never work because the intermediate object on which we are setting values always behaves as a copy.\n",
      "\n",
      "For example, when doing 'df[col].method(value, inplace=True)', try using 'df.method({col: value}, inplace=True)' or df[col] = df[col].method(value) instead, to perform the operation inplace on the original object.\n",
      "\n",
      "\n",
      "  cc_data[col].fillna(cc_data[col].median(), inplace=True)\n"
     ]
    },
    {
     "data": {
      "text/plain": [
       "Age                                   False\n",
       "Number of sexual partners             False\n",
       "First sexual intercourse              False\n",
       "Num of pregnancies                    False\n",
       "Smokes                                False\n",
       "Smokes (years)                        False\n",
       "Smokes (packs/year)                   False\n",
       "Hormonal Contraceptives               False\n",
       "Hormonal Contraceptives (years)       False\n",
       "IUD                                   False\n",
       "IUD (years)                           False\n",
       "STDs                                  False\n",
       "STDs (number)                         False\n",
       "STDs:condylomatosis                   False\n",
       "STDs:cervical condylomatosis          False\n",
       "STDs:vaginal condylomatosis           False\n",
       "STDs:vulvo-perineal condylomatosis    False\n",
       "STDs:syphilis                         False\n",
       "STDs:pelvic inflammatory disease      False\n",
       "STDs:genital herpes                   False\n",
       "STDs:molluscum contagiosum            False\n",
       "STDs:AIDS                             False\n",
       "STDs:HIV                              False\n",
       "STDs:Hepatitis B                      False\n",
       "STDs:HPV                              False\n",
       "STDs: Number of diagnosis             False\n",
       "STDs: Time since first diagnosis      False\n",
       "STDs: Time since last diagnosis       False\n",
       "Dx:Cancer                             False\n",
       "Dx:CIN                                False\n",
       "Dx:HPV                                False\n",
       "Dx                                    False\n",
       "Hinselmann                            False\n",
       "Schiller                              False\n",
       "Citology                              False\n",
       "Biopsy                                False\n",
       "dtype: bool"
      ]
     },
     "execution_count": 11,
     "metadata": {},
     "output_type": "execute_result"
    }
   ],
   "source": [
    "binary_cols = [\n",
    "    'Smokes', 'Hormonal Contraceptives', 'IUD', 'STDs',\n",
    "    'STDs:condylomatosis', 'STDs:cervical condylomatosis',\n",
    "    'STDs:vaginal condylomatosis', 'STDs:vulvo-perineal condylomatosis',\n",
    "    'STDs:syphilis', 'STDs:pelvic inflammatory disease', 'STDs:genital herpes',\n",
    "    'STDs:molluscum contagiosum', 'STDs:AIDS', 'STDs:HIV', 'STDs:Hepatitis B',\n",
    "    'STDs:HPV', 'Dx:Cancer', 'Dx:CIN', 'Dx:HPV', 'Dx',\n",
    "    'Hinselmann', 'Schiller', 'Citology', 'Biopsy'\n",
    "]\n",
    "cc_data[binary_cols] = cc_data[binary_cols].fillna(0)\n",
    "\n",
    "duration_cols = [\n",
    "    'Smokes (years)', 'Smokes (packs/year)',\n",
    "    'Hormonal Contraceptives (years)', 'IUD (years)',\n",
    "    'STDs: Time since first diagnosis', 'STDs: Time since last diagnosis'\n",
    "]\n",
    "cc_data[duration_cols] = cc_data[duration_cols].fillna(0)\n",
    "\n",
    "num_cols = [\n",
    "    'Age', 'Number of sexual partners', 'First sexual intercourse', 'Num of pregnancies',\n",
    "    'STDs (number)', 'STDs: Number of diagnosis'\n",
    "]\n",
    "for col in num_cols:\n",
    "    cc_data[col].fillna(cc_data[col].median(), inplace=True)\n",
    "\n",
    "#check if still have missing data\n",
    "cc_data.isna().any()"
   ]
  }
 ],
 "metadata": {
  "kernelspec": {
   "display_name": "Python 3",
   "language": "python",
   "name": "python3"
  },
  "language_info": {
   "codemirror_mode": {
    "name": "ipython",
    "version": 3
   },
   "file_extension": ".py",
   "mimetype": "text/x-python",
   "name": "python",
   "nbconvert_exporter": "python",
   "pygments_lexer": "ipython3",
   "version": "3.12.5"
  }
 },
 "nbformat": 4,
 "nbformat_minor": 5
}
