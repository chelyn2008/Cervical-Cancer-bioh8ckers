{
 "cells": [
  {
   "cell_type": "markdown",
   "id": "866bb08f",
   "metadata": {},
   "source": [
    "DATA PREDICTION MODEL"
   ]
  },
  {
   "cell_type": "code",
   "execution_count": null,
   "id": "ad844061",
   "metadata": {},
   "outputs": [],
   "source": [
    "import pandas as pd\n",
    "import matplotlib.pyplot as plt\n",
    "import seaborn as sns\n",
    "\n",
    "from sklearn.model_selection import train_test_split\n",
    "from sklearn.preprocessing import StandardScaler\n",
    "from sklearn.linear_model import LogisticRegression\n",
    "from sklearn.ensemble import RandomForestClassifier\n",
    "from xgboost import XGBClassifier\n",
    "from sklearn.svm import SVC\n",
    "\n",
    "from sklearn.metrics import classification_report, accuracy_score, precision_score, recall_score, f1_score"
   ]
  },
  {
   "cell_type": "code",
   "execution_count": null,
   "id": "50f14637",
   "metadata": {},
   "outputs": [],
   "source": [
    "#load clean data\n",
    "clean_data = pd.read_csv('cleaned_data.csv')"
   ]
  },
  {
   "cell_type": "code",
   "execution_count": null,
   "id": "349d0031",
   "metadata": {},
   "outputs": [],
   "source": [
    "#define target variable\n",
    "target = 'Dx:Cancer'\n",
    "X = clean_data.drop(columns=[target])\n",
    "Y = clean_data[target]"
   ]
  },
  {
   "cell_type": "code",
   "execution_count": null,
   "id": "186096a7",
   "metadata": {},
   "outputs": [],
   "source": [
    "#split data\n",
    "X_training, X_testing, Y_training, Y_testing = train_test_split(X, Y, test_size=0.2, random_state=42)\n",
    "#standardise features\n",
    "scaler = StandardScaler()\n",
    "X_training_scaled = scaler.fit_transform(X_training)\n",
    "X_testing_scaled = scaler.transform(X_testing)"
   ]
  },
  {
   "cell_type": "code",
   "execution_count": null,
   "id": "78d052ab",
   "metadata": {},
   "outputs": [],
   "source": [
    "#define models\n",
    "models = {\n",
    "    \"Logistics Regression\": LogisticRegression(),\n",
    "    \"Random Forest\": RandomForestClassifier(random_state=42),\n",
    "    \"XGBoost\": XGBClassifier(use_label_encoder=False, eval_metric='logloss'),\n",
    "    \"SVM\": SVC(),\n",
    "}"
   ]
  },
  {
   "cell_type": "markdown",
   "id": "122b108e",
   "metadata": {},
   "source": [
    "Evalutaion"
   ]
  },
  {
   "cell_type": "code",
   "execution_count": null,
   "id": "ad1ac931",
   "metadata": {},
   "outputs": [],
   "source": [
    "#train + evaluate models\n",
    "result = []\n",
    "fitted_models = {}\n",
    "\n",
    "for name, model in models.items():\n",
    "    print(f\"Training {name}:\")\n",
    "    model.fit(X_training_scaled, Y_training)\n",
    "    fitted_models[name] = model\n",
    "\n",
    "    Y_prediction = model.predict(X_testing_scaled)\n",
    "    if hasattr(model, \"predict_proba\"):\n",
    "        Y_probability = model.predict_proba(X_testing_scaled)[:, 1]\n",
    "    else:\n",
    "        Y_probability = None\n",
    "\n",
    "    print(f\"Results for {name}:\")\n",
    "    print(f\"Accuracy: {accuracy_score(Y_testing, Y_prediction):.4f}\")\n",
    "    print(f\"Precision: {precision_score(Y_testing, Y_prediction):.4f}\")\n",
    "    print(f\"Recall: {recall_score(Y_testing, Y_prediction):.4f}\")\n",
    "    print(f\"F1 Score: {f1_score(Y_testing, Y_prediction):.4f}\")\n",
    "\n",
    "    print(classification_report(Y_testing, Y_prediction))"
   ]
  },
  {
   "cell_type": "code",
   "execution_count": null,
   "id": "af66d2b9",
   "metadata": {},
   "outputs": [],
   "source": [
    "#CONFUSION MATRIX\n",
    "from sklearn.metrics import confusion_matrix\n",
    "confusion_mtx = confusion_matrix(Y_testing, Y_prediction)\n",
    "sns.heatmap(\n",
    "    confusion_mtx, \n",
    "    annot=True, \n",
    "    format='d', \n",
    "    cmap=\"Blues\", \n",
    "    xticklabels=['Cancer negative', 'Cancer positive'], \n",
    "    yticklabels=['Cancer negative', 'Cancer positive']\n",
    "), "
   ]
  },
  {
   "cell_type": "code",
   "execution_count": null,
   "id": "a7005c4c",
   "metadata": {},
   "outputs": [],
   "source": [
    "#ROC Curve\n",
    "from sklearn.metrics import roc_curve, auc\n",
    "\n",
    "if Y_probability is not None:\n",
    "    fpr,tpr, _ = roc_curve(Y_testing, Y_probability)\n",
    "    roc_auc = auc(fpr, tpr)\n",
    "\n",
    "    plt.figure(figsize=(8,6))\n",
    "    plt.plot(fpr, tpr, label=f\"ROC Curve (AUC = {roc_auc:.2f})\")\n",
    "    plt.plot([0, 1], [0, 1], 'k--')  # Random chance\n",
    "    plt.xlabel(\"False Positive Rate\")\n",
    "    plt.ylabel(\"True Positive Rate\")\n",
    "    plt.title(\"Receiver Operating Characteristic (ROC) Curve\")\n",
    "    plt.legend(loc=\"lower right\")\n",
    "    plt.grid(True)\n",
    "    plt.show()"
   ]
  }
 ],
 "metadata": {
  "kernelspec": {
   "display_name": "Python 3",
   "language": "python",
   "name": "python3"
  },
  "language_info": {
   "codemirror_mode": {
    "name": "ipython",
    "version": 3
   },
   "file_extension": ".py",
   "mimetype": "text/x-python",
   "name": "python",
   "nbconvert_exporter": "python",
   "pygments_lexer": "ipython3",
   "version": "3.12.5"
  }
 },
 "nbformat": 4,
 "nbformat_minor": 5
}
