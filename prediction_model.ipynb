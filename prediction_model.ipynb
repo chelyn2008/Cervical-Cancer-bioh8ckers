{
 "cells": [
  {
   "cell_type": "markdown",
   "id": "f3cfebd0",
   "metadata": {},
   "source": [
    "# Prediction Model\n",
    "- making use of features to predict whether a person would get cancer (binary classification)\n",
    "    - binary classification taken into consideration when selecting the model used for the prediction"
   ]
  },
  {
   "cell_type": "code",
   "execution_count": null,
   "id": "d64dde33",
   "metadata": {},
   "outputs": [],
   "source": []
  }
 ],
 "metadata": {
  "language_info": {
   "name": "python"
  }
 },
 "nbformat": 4,
 "nbformat_minor": 5
}
