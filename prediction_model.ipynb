{
 "cells": [
  {
   "cell_type": "markdown",
   "id": "866bb08f",
   "metadata": {},
   "source": [
    "DATA PREDICTION MODEL"
   ]
  },
  {
   "cell_type": "code",
   "execution_count": null,
   "id": "ad844061",
   "metadata": {},
   "outputs": [],
   "source": [
    "import pandas as pd\n",
    "from sklearn.model_selection import train_test_split\n",
    "\n",
    "from sklearn.metrics import classification_report, accuracy_score, precision_score, recall_score, f1_score\n",
    "from sklearn.linear_model import LogisticRegression\n",
    "from sklearn.tree import DecisionTreeClassifier\n",
    "from sklearn.ensemble import RandomForestClassifier\n",
    "from xgboost import XGBClassifier\n",
    "from sklearn.svm import SVC\n",
    "from sklearn.neighbors import KNeighborsClassifier"
   ]
  },
  {
   "cell_type": "code",
   "execution_count": null,
   "id": "50f14637",
   "metadata": {},
   "outputs": [],
   "source": [
    "#load clean data\n",
    "clean_data = pd.read_csv('cleaned_data.csv')"
   ]
  },
  {
   "cell_type": "code",
   "execution_count": null,
   "id": "349d0031",
   "metadata": {},
   "outputs": [],
   "source": [
    "#define target variable\n",
    "target = 'Dx:Cancer' #or 'Biopsy'\n",
    "X = clean_data.drop(columns=[target])\n",
    "Y = clean_data[target]"
   ]
  },
  {
   "cell_type": "code",
   "execution_count": null,
   "id": "186096a7",
   "metadata": {},
   "outputs": [],
   "source": [
    "#split data\n",
    "X_training, X_testing, Y_training, Y_testing = train_test_split(X, Y, test_size=0.2, random_state=42)"
   ]
  },
  {
   "cell_type": "code",
   "execution_count": null,
   "id": "78d052ab",
   "metadata": {},
   "outputs": [],
   "source": [
    "#define models\n",
    "models = {\n",
    "    \"Logistics Regression\": LogisticRegression(),\n",
    "    \"Decision Tree\": DecisionTreeClassifier(random_state=42),\n",
    "    \"Random Forest\": RandomForestClassifier(random_state=42),\n",
    "    \"XGBoost\": XGBClassifier(use_label_encoder=False, eval_metric='logloss'),\n",
    "    \"SVM\": SVC(),\n",
    "    \"KNN\": KNeighborsClassifier()\n",
    "}"
   ]
  },
  {
   "cell_type": "code",
   "execution_count": null,
   "id": "ad1ac931",
   "metadata": {},
   "outputs": [],
   "source": [
    "#train + evaluate models\n",
    "result = []\n",
    "fitted_models = {}\n",
    "\n",
    "for name, model in models.items():\n",
    "    print(f\"Training {name}:\")\n",
    "    model.fit(X_training,Y_training)\n",
    "    fitted_models[name] = model\n",
    "\n",
    "    Y_prediction = model.predict(X_testing)\n",
    "    Y_probability = model.predict_probability(X_testing)[:, 1] if hasattr(model, \"predict_proba\") else None\n",
    "\n",
    "    print(f\"Results for {name}:\")\n",
    "    print(f\"Accuracy: {accuracy_score(Y_testing, Y_prediction):.4f}\")\n",
    "    print(f\"Precision: {precision_score(Y_testing, Y_prediction):.4f}\")\n",
    "    print(f\"Recall: {recall_score(Y_testing, Y_prediction):.4f}\")\n",
    "    print(f\"F1 Score: {f1_score(Y_testing, Y_prediction):.4f}\")\n",
    "\n",
    "    print(classification_report(Y_testing, Y_prediction))"
   ]
  }
 ],
 "metadata": {
  "kernelspec": {
   "display_name": "Python 3",
   "language": "python",
   "name": "python3"
  },
  "language_info": {
   "codemirror_mode": {
    "name": "ipython",
    "version": 3
   },
   "file_extension": ".py",
   "mimetype": "text/x-python",
   "name": "python",
   "nbconvert_exporter": "python",
   "pygments_lexer": "ipython3",
   "version": "3.12.5"
  }
 },
 "nbformat": 4,
 "nbformat_minor": 5
}
